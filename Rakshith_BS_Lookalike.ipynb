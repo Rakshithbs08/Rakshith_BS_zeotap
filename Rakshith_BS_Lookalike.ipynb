{
 "cells": [
  {
   "cell_type": "code",
   "execution_count": null,
   "id": "c5b8fbe3",
   "metadata": {},
   "outputs": [],
   "source": [
    "import pandas as pd\n",
    "from sklearn.metrics.pairwise import cosine_similarity\n",
    "from sklearn.preprocessing import StandardScaler\n",
    "import os\n",
    "\n",
    "customers_path = os.path.join(os.getcwd(), 'Customers.csv')\n",
    "products_path = os.path.join(os.getcwd(), 'Products.csv')\n",
    "transactions_path = os.path.join(os.getcwd(), 'Transactions.csv')\n",
    "\n",
    "customers = pd.read_csv(customers_path, dtype={'CustomerID': 'string', 'Region': 'string', 'CustomerName': 'string'})\n",
    "products = pd.read_csv(products_path, dtype={'ProductID': 'string', 'Category': 'string', 'ProductName': 'string', 'Price': 'float'})\n",
    "transactions = pd.read_csv(transactions_path, dtype={'TransactionID': 'string', 'CustomerID': 'string', 'ProductID': 'string', 'Quantity': 'int', 'TotalValue': 'float'}, parse_dates=['TransactionDate'])\n",
    "\n",
    "merged_data = transactions.merge(customers, on=\"CustomerID\", how=\"inner\").merge(products, on=\"ProductID\", how=\"inner\")\n",
    "\n",
    "customer_features = merged_data.groupby('CustomerID').agg({\n",
    "    'TotalValue': 'sum',\n",
    "    'Quantity': 'sum',\n",
    "    'Region': 'first',\n",
    "    'ProductID': 'nunique'\n",
    "}).rename(columns={\n",
    "    'TotalValue': 'TotalSpending',\n",
    "    'Quantity': 'TotalQuantity',\n",
    "    'ProductID': 'UniqueProducts'\n",
    "}).reset_index()\n",
    "\n",
    "customer_features = pd.get_dummies(customer_features, columns=['Region'], drop_first=True)\n",
    "\n",
    "scaler = StandardScaler()\n",
    "numeric_features = ['TotalSpending', 'TotalQuantity', 'UniqueProducts']\n",
    "customer_features[numeric_features] = scaler.fit_transform(customer_features[numeric_features])\n",
    "\n",
    "similarity_matrix = cosine_similarity(customer_features.drop('CustomerID', axis=1))\n",
    "\n",
    "similarity_df = pd.DataFrame(similarity_matrix, index=customer_features['CustomerID'], columns=customer_features['CustomerID'])\n",
    "\n",
    "top_lookalikes = {}\n",
    "for customer in customer_features['CustomerID'][:20]:\n",
    "    similar_customers = similarity_df[customer].sort_values(ascending=False)[1:4]\n",
    "    top_lookalikes[customer] = list(zip(similar_customers.index, similar_customers.values))\n",
    "\n",
    "lookalike_results = []\n",
    "for customer, lookalikes in top_lookalikes.items():\n",
    "    for similar_customer, score in lookalikes:\n",
    "        lookalike_results.append({'CustomerID': customer, 'SimilarCustomerID': similar_customer, 'SimilarityScore': score})\n",
    "\n",
    "lookalike_df = pd.DataFrame(lookalike_results)\n",
    "lookalike_df.to_csv('Lookalike.csv', index=False)\n",
    "\n",
    "print(\"Lookalike model results saved to 'Lookalike.csv'\")\n"
   ]
  },
  {
   "cell_type": "code",
   "execution_count": null,
   "id": "b4138c7f",
   "metadata": {},
   "outputs": [],
   "source": []
  }
 ],
 "metadata": {
  "kernelspec": {
   "display_name": "Python 3 (ipykernel)",
   "language": "python",
   "name": "python3"
  },
  "language_info": {
   "codemirror_mode": {
    "name": "ipython",
    "version": 3
   },
   "file_extension": ".py",
   "mimetype": "text/x-python",
   "name": "python",
   "nbconvert_exporter": "python",
   "pygments_lexer": "ipython3",
   "version": "3.9.13"
  }
 },
 "nbformat": 4,
 "nbformat_minor": 5
}
